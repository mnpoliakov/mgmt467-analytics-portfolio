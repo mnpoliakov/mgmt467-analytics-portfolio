{
  "cells": [
    {
      "cell_type": "markdown",
      "metadata": {
        "id": "view-in-github",
        "colab_type": "text"
      },
      "source": [
        "<a href=\"https://colab.research.google.com/github/mnpoliakov/mgmt467-analytics-portfolio/blob/main/Week2_1_Prompt_Practice.ipynb\" target=\"_parent\"><img src=\"https://colab.research.google.com/assets/colab-badge.svg\" alt=\"Open In Colab\"/></a>"
      ]
    },
    {
      "cell_type": "markdown",
      "id": "eebaff9c",
      "metadata": {
        "id": "eebaff9c"
      },
      "source": [
        "\n",
        "# Week 2.1 — Prompt Practice: Git, GitHub, and Google Colab\n",
        "\n",
        "**Course:** MGMT 467 — AI‑Assisted Big Data Analytics in the Cloud  \n",
        "**Session:** Tuesday (2.1) — Developer Environment Setup\n",
        "\n",
        "### How to use this notebook\n",
        "- This is a **practice and planning** notebook: most cells are **Markdown** with copy‑pasteable prompt templates you will run in your AI tool (e.g., Gemini).  \n",
        "- After you run a prompt in your AI tool, **summarize what you learned** in the provided **Reflection** cells here.  \n",
        "- When a task asks for a short code snippet (e.g., Git or Colab), paste the **final, validated** snippet in the designated cell and add a one‑sentence explanation.\n",
        "\n",
        "> **Validate everything.** Cross‑check AI outputs with official docs or a second prompt. If two sources disagree, note it and explain which you chose and why.\n"
      ]
    },
    {
      "cell_type": "markdown",
      "id": "de4883d8",
      "metadata": {
        "id": "de4883d8"
      },
      "source": [
        "\n",
        "---\n",
        "## Prompt Patterns Quick Reference\n",
        "\n",
        "Use these as starting points and **adapt** them to your context.\n",
        "\n",
        "### 1) Zero‑Shot (definition/explanation)\n",
        "```\n",
        "Act as a clear, concise tutor for first‑year CS students.\n",
        "Explain {TOPIC} in 5 bullet points max. Include one analogy and one pitfall to avoid.\n",
        "```\n",
        "\n",
        "### 2) Few‑Shot (guided answers consistent with examples)\n",
        "```\n",
        "You will answer in the same style as the examples.\n",
        "\n",
        "Q: What is a \"commit\" in Git?  \n",
        "A: A snapshot of tracked file changes with a message explaining why.\n",
        "\n",
        "Q: What is \"pushing\" in Git?  \n",
        "A: Sending local commits to a remote repository so others can see them.\n",
        "\n",
        "Q: {YOUR QUESTION}\n",
        "A:\n",
        "```\n",
        "\n",
        "### 3) Step‑by‑Step Reasoning (show key steps)\n",
        "```\n",
        "I need a **numbered, step‑by‑step plan** for {TASK}.\n",
        "For each step: the goal, one command (if applicable), and a 1‑line verification check.\n",
        "Avoid hidden steps; keep it to 6–8 steps total.\n",
        "```\n"
      ]
    },
    {
      "cell_type": "markdown",
      "id": "3f07055e",
      "metadata": {
        "id": "3f07055e"
      },
      "source": [
        "\n",
        "---\n",
        "## Group A — Git Fundamentals (3 questions)\n",
        "\n",
        "### A1. What problem does Git solve? How is it different from file syncing?\n",
        "**Use:** Zero‑Shot, then Few‑Shot for refinement.  \n",
        "**Run this prompt:**\n",
        "```\n",
        "Act as a version control coach.\n",
        "Explain what Git is and the specific problem it solves compared to simple file syncing (e.g., Drive).\n",
        "List 3 concrete benefits for a small analytics team.\n",
        "End with a 2‑sentence analogy.\n",
        "```\n",
        "**Reflection (2–4 sentences):** What did you learn that you didn’t already know?\n"
      ]
    },
    {
      "cell_type": "markdown",
      "source": [
        "The main idea I was able to learn from this prompt is the true power of GIT and the ability to allow for much better history tracking and the possibility of offline work. Before, file syncing would only show limited version history, now we are able to see the exact changes that occur on the file. Offline work will also will be ability since the changes will sync once connected to the internet."
      ],
      "metadata": {
        "id": "Ph0zL8vt1YSc"
      },
      "id": "Ph0zL8vt1YSc"
    },
    {
      "cell_type": "markdown",
      "id": "b364c38d",
      "metadata": {
        "id": "b364c38d"
      },
      "source": [
        "\n",
        "### A2. Commit → Branch → Merge: the minimal workflow\n",
        "**Use:** Step‑by‑Step Reasoning.  \n",
        "**Run this prompt:**\n",
        "```\n",
        "Create a minimal, step‑by‑step workflow to:\n",
        "1) initialize a repo, 2) create and switch to a feature branch, 3) commit changes,\n",
        "4) merge back to main locally, 5) push to a remote named \"origin\".\n",
        "For each step include: goal, command, and a quick verification.\n",
        "```\n",
        "**Paste final validated commands below and add one sentence on when to branch.**\n"
      ]
    },
    {
      "cell_type": "code",
      "execution_count": 2,
      "id": "7fe63d5f",
      "metadata": {
        "id": "7fe63d5f"
      },
      "outputs": [],
      "source": [
        "# Paste your validated minimal Git workflow commands here as comments, e.g.:\n",
        "\n",
        "# 1. Initialize a new Git repository in your current directory.\n",
        "# git init\n",
        "\n",
        "# 2. Create a new branch for your feature and switch to it. This keeps your work separate from the main development line.\n",
        "# git checkout -b feature/your-feature-name\n",
        "\n",
        "# 3. Stage your changes and commit them to the current branch.\n",
        "# git add .\n",
        "# git commit -m \"Add descriptive message about your changes\"\n",
        "\n",
        "# 4. Switch back to the main branch and merge your feature branch's changes into it locally.\n",
        "# git checkout main\n",
        "# git merge feature/your-feature-name --no-ff\n",
        "\n",
        "# 5. Push your local main branch (including the merged feature) to the remote repository named \"origin\".\n",
        "# git remote add origin <REMOTE_URL>\n",
        "# git push origin main\n",
        "\n",
        "# When to branch: You should create a new branch whenever you start working on a new feature, bug fix, or experiment that is separate from the main development line."
      ]
    },
    {
      "cell_type": "markdown",
      "source": [
        "We first want to initialize a repo, which will be the beginning of our journey with our code/project. Once we wan to establish a feature, we will create a new branch to isolate the code. We can add these features to our main branch in our repo. We can also push our local main branch to a remote repository. Lastly, it is important to understand when we should create a new branch, this should occur when trying to fix any bugs, new features or some type of experiments we are working on.\n"
      ],
      "metadata": {
        "id": "Ym6s2xMf4tVb"
      },
      "id": "Ym6s2xMf4tVb"
    },
    {
      "cell_type": "markdown",
      "id": "39cd8eba",
      "metadata": {
        "id": "39cd8eba"
      },
      "source": [
        "\n",
        "### A3. Resolving a simple merge conflict\n",
        "**Use:** Step‑by‑Step Reasoning.  \n",
        "**Run this prompt:**\n",
        "```\n",
        "I have a merge conflict in README.md after merging a feature branch into main.\n",
        "Give a 6-step recipe to resolve it safely:\n",
        "- how to open the file, identify conflict markers, choose/merge lines,\n",
        "- add/commit the resolution, verify the merge, and push.\n",
        "Include one common pitfall and how to avoid it.\n",
        "```\n",
        "**Reflection:** What’s your personal checklist to avoid conflicts getting messy?\n"
      ]
    },
    {
      "cell_type": "markdown",
      "source": [
        "My personal checklist to avoid conflicts from getting too messy include\n",
        "- review my work before commit, which will include proof reading\n",
        "- If conflict occurs, intently look at the submitted work\n",
        "- Indefity the issue, and analyze what could have gone wrong\n",
        "- Brainstorm of possible solutions or refer to another tool to help brainstorm\n",
        "- Document the issue, discussion and solution\n",
        "- implment the solution"
      ],
      "metadata": {
        "id": "zvFIAqQC5zNg"
      },
      "id": "zvFIAqQC5zNg"
    },
    {
      "cell_type": "markdown",
      "id": "6028ce17",
      "metadata": {
        "id": "6028ce17"
      },
      "source": [
        "\n",
        "---\n",
        "## Group B — GitHub Collaboration (3 questions)\n",
        "\n",
        "### B1. Branch vs. Fork vs. Clone\n",
        "**Use:** Few‑Shot to drive crisp distinctions with examples.  \n",
        "**Run this prompt:**\n",
        "```\n",
        "Answer using this format:\n",
        "Term — One-sentence definition — When to use — One example.\n",
        "\n",
        "Branch —\n",
        "Fork —\n",
        "Clone —\n",
        "```\n",
        "**Reflection:** Which one will your team use for this course and why?\n"
      ]
    },
    {
      "cell_type": "markdown",
      "source": [
        "Our team will be use the branch in this course. The main reason we decided to choose this method is the ability to work in isolation on new features, which will help push our structure as a team. We will want to assign each person a certain task, which will make a branch very easy to have people in the seperate bubbles. This can better allow for us to keep track of the work that will be done during this course\n"
      ],
      "metadata": {
        "id": "7Kv4r9gP75gc"
      },
      "id": "7Kv4r9gP75gc"
    },
    {
      "cell_type": "markdown",
      "id": "2c819dea",
      "metadata": {
        "id": "2c819dea"
      },
      "source": [
        "\n",
        "### B2. Pull Request (PR) checklist for this course\n",
        "**Use:** Step‑by‑Step Reasoning.  \n",
        "**Run this prompt:**\n",
        "```\n",
        "Write a \"PR Checklist\" for a university analytics course team repo.\n",
        "Include: naming convention, description template, screenshots policy, reviewers, CI checks (if any),\n",
        "and a revert plan. Limit to 8 concise checklist items.\n",
        "```\n",
        "**Paste your final checklist below.**\n"
      ]
    },
    {
      "cell_type": "code",
      "metadata": {
        "colab": {
          "base_uri": "https://localhost:8080/",
          "height": 156
        },
        "id": "3be2e80a",
        "outputId": "580e5ed5-6eb0-4aae-8446-f46ba947caf7"
      },
      "source": [
        "# PR Checklist for university analytics course team repo\n",
        "pr_checklist = [\n",
        "    \"PR Title: <unit>-<lab>-<short-desc> (e.g., u1-lab2-eda-trends)\",\n",
        "    \"Description: Include problem, approach, key files, and how to test.\",\n",
        "    \"Screenshots: Attach 1-2 if visuals (plots/dashboards) changed.\",\n",
        "    \"Linked Issue: Link related issue or assignment requirement.\",\n",
        "    \"Reviewers: Request review from >=1 teammate; no self-merge.\",\n",
        "    \"CI Checks: Ensure automated checks (if any) pass.\",\n",
        "    \"Secrets/PII: No secrets, tokens, or PII in code/outputs.\",\n",
        "    \"Revert Plan: Briefly note how to quickly revert if needed.\"\n",
        "]\n",
        "\n",
        "# Display the checklist (optional)\n",
        "display(pr_checklist)"
      ],
      "id": "3be2e80a",
      "execution_count": 6,
      "outputs": [
        {
          "output_type": "display_data",
          "data": {
            "text/plain": [
              "['PR Title: <unit>-<lab>-<short-desc> (e.g., u1-lab2-eda-trends)',\n",
              " 'Description: Include problem, approach, key files, and how to test.',\n",
              " 'Screenshots: Attach 1-2 if visuals (plots/dashboards) changed.',\n",
              " 'Linked Issue: Link related issue or assignment requirement.',\n",
              " 'Reviewers: Request review from >=1 teammate; no self-merge.',\n",
              " 'CI Checks: Ensure automated checks (if any) pass.',\n",
              " 'Secrets/PII: No secrets, tokens, or PII in code/outputs.',\n",
              " 'Revert Plan: Briefly note how to quickly revert if needed.']"
            ]
          },
          "metadata": {}
        }
      ]
    },
    {
      "cell_type": "markdown",
      "id": "3be4b08d",
      "metadata": {
        "id": "3be4b08d"
      },
      "source": [
        "\n",
        "### B3. Protected `main` workflow\n",
        "**Use:** Zero‑Shot + Step‑by‑Step.  \n",
        "**Run this prompt:**\n",
        "```\n",
        "Explain how to protect the main branch in a GitHub repo for a class team:\n",
        "- Require PRs, at least one review, and passing checks\n",
        "- Disallow force-pushes\n",
        "Provide a numbered setup guide and a 3-line \"why this matters\" explanation.\n",
        "```\n",
        "**Reflection:** Which protection rules will you actually enable first, and why?\n"
      ]
    },
    {
      "cell_type": "markdown",
      "source": [
        "The first protection rule we will add require pull requests, require approvals, require status checks and lastly disallowing force pushes. This is esential to set up for our main branch, for the reason we want to make sure that every update is reviewed in a proper manner. Yes, there can be bugs that are not seen when approving code, but this is a system in place we can ensure to limit the amount issues we would encounter."
      ],
      "metadata": {
        "id": "gL4ZEhi19w-E"
      },
      "id": "gL4ZEhi19w-E"
    },
    {
      "cell_type": "markdown",
      "id": "8d94b30a",
      "metadata": {
        "id": "8d94b30a"
      },
      "source": [
        "\n",
        "---\n",
        "## Group C — Google Colab for Analytics (3 questions)\n",
        "\n",
        "### C1. Why Colab? Benefits & limits for this course\n",
        "**Use:** Zero‑Shot.  \n",
        "**Run this prompt:**\n",
        "```\n",
        "Act as a data science tech advisor.\n",
        "List 5 advantages and 3 limitations of Google Colab for analytics coursework.\n",
        "Tailor to a class that uses BigQuery and dashboards. Keep it to bullet points.\n",
        "```\n",
        "**Reflection:** Which two advantages will help *you* most this semester?\n"
      ]
    },
    {
      "cell_type": "markdown",
      "source": [
        "I think the first advantage of CoLab that will help me the most, is the ability to have pre installed libraries already set up. In the past I have had many issues downloading libraries when working in diferent enviorments. In addition, I think the ability to have this in the google enviorment will help me access the file from anywhere and enable sharingt he files to be much easier than via another route."
      ],
      "metadata": {
        "id": "Fi81V4K__Kzl"
      },
      "id": "Fi81V4K__Kzl"
    },
    {
      "cell_type": "markdown",
      "id": "1b96debe",
      "metadata": {
        "id": "1b96debe"
      },
      "source": [
        "\n",
        "### C2. Authenticate to GCP in Colab and query BigQuery\n",
        "**Use:** Step‑by‑Step Reasoning for a minimal working snippet.  \n",
        "**Run this prompt:**\n",
        "```\n",
        "Provide a minimal Colab snippet to:\n",
        "1) authenticate to Google Cloud,\n",
        "2) run a simple BigQuery SQL (e.g., SELECT 1),\n",
        "3) get results into a pandas DataFrame,\n",
        "4) print row count.\n",
        "Include a one-line note on costs and safe use of LIMIT.\n",
        "```\n",
        "**Paste your final validated code below.**\n"
      ]
    },
    {
      "cell_type": "code",
      "metadata": {
        "id": "52fc9325"
      },
      "source": [
        "# 1) Authenticate to Google Cloud\n",
        "from google.colab import auth\n",
        "auth.authenticate_user()\n",
        "\n",
        "# 2) Run a simple BigQuery SQL and 3) get results into a pandas DataFrame\n",
        "from google.cloud import bigquery\n",
        "client = bigquery.Client(project=\"<YOUR_PROJECT_ID>\") # Replace with your GCP project ID\n",
        "sql = \"SELECT 1 AS test_col\" # Simple test query\n",
        "# sql = \"SELECT * FROM `<YOUR_PROJECT_ID>.<YOUR_DATASET>.<YOUR_TABLE>` LIMIT 10\" # Example with LIMIT\n",
        "\n",
        "df = client.query(sql).result().to_dataframe()\n",
        "\n",
        "# 4) Print row count\n",
        "print(\"Rows returned:\", len(df))\n",
        "\n",
        "# Display the first few rows (optional)\n",
        "# display(df.head())\n",
        "\n",
        "# Note on costs: BigQuery charges for data processed by queries. Use LIMIT to sample data and reduce costs during exploration."
      ],
      "id": "52fc9325",
      "execution_count": null,
      "outputs": []
    },
    {
      "cell_type": "markdown",
      "id": "6c63c1ce",
      "metadata": {
        "id": "6c63c1ce"
      },
      "source": [
        "\n",
        "### C3. Save notebooks to GitHub from Colab\n",
        "**Use:** Step‑by‑Step Reasoning.  \n",
        "**Run this prompt:**\n",
        "```\n",
        "Give two safe workflows to keep Colab notebooks versioned in GitHub:\n",
        "(A) using \"File > Save a copy in GitHub\",\n",
        "(B) local git with Drive sync (brief).\n",
        "Provide steps and cautions (e.g., large outputs, secrets) for each.\n",
        "```\n",
        "**Reflection:** Which workflow will your team adopt and why?\n"
      ]
    },
    {
      "cell_type": "markdown",
      "source": [
        "We will adopt workflow A, due to the fact that it is the most straighforward approach, and can reduce any possible issues that may occur. Since most of us are fairly new with GitHub, this will make the transition much easier for us."
      ],
      "metadata": {
        "id": "nUC8YJP5ANTG"
      },
      "id": "nUC8YJP5ANTG"
    },
    {
      "cell_type": "markdown",
      "id": "a181717a",
      "metadata": {
        "id": "a181717a"
      },
      "source": [
        "\n",
        "---\n",
        "## Capstone Synthesis (end of class)\n",
        "\n",
        "**Scenario:** Your team needs a reproducible workflow for this course: team repo on GitHub, branching, Colab auth to BigQuery, and a PR checklist.\n",
        "\n",
        "**Run this prompt:**\n",
        "```\n",
        "Act as a DevEx lead for a university analytics team.\n",
        "Produce a one-page \"Runbook\" with:\n",
        "- Repo structure (folders for notebooks, data, dashboards, docs)\n",
        "- Branching model (who creates branches, when to merge)\n",
        "- Colab ↔ BigQuery quickstart (auth, sample query, cost-safe LIMIT)\n",
        "- PR checklist (max 8 bullets) and protection rules for main\n",
        "- Two risks + mitigations (e.g., secrets leakage, merge conflicts)\n",
        "Use concise bullets and keep it classroom-ready.\n",
        "```\n",
        "\n",
        "**Paste your final runbook below (or attach as a Markdown file in your repo) and add a 3‑bullet reflection on what you changed after validation.**\n"
      ]
    },
    {
      "cell_type": "markdown",
      "source": [
        "- Commeneted the code to reduce confusion, as code will not run without the data and files\n",
        "- Added more documentation about branching model\n",
        "- Updated the procedure for commits and code review to include the entire team, not just one \"Project Lead\""
      ],
      "metadata": {
        "id": "qQGxhTWrCSbD"
      },
      "id": "qQGxhTWrCSbD"
    },
    {
      "cell_type": "markdown",
      "metadata": {
        "id": "0349e71e"
      },
      "source": [
        "# Analytics Team Runbook\n",
        "\n",
        "This runbook outlines the standard workflow and best practices for our university analytics team, ensuring smooth collaboration and reproducible analysis.\n",
        "\n",
        "## Repository Structure\n",
        "\n",
        "Our team repository on GitHub will follow this structure to keep our project organized:\n",
        "\n",
        "*   `/notebooks/`: Store all Google Colab notebooks (`.ipynb` files) here.\n",
        "*   `/data/`: (Optional) For small, versioned datasets used directly in notebooks. Note: Large datasets should remain in BigQuery.\n",
        "*   `/dashboards/`: (If applicable) Store configuration or code related to dashboarding tools.\n",
        "*   `/docs/`: For project documentation, reports, or other relevant notes (e.g., this runbook).\n",
        "*   `/.gitignore`: Essential for excluding unnecessary files (like large outputs or temporary files) from Git tracking.\n",
        "\n",
        "## Branching Model\n",
        "\n",
        "We will use a simple feature branching model:\n",
        "\n",
        "*   **`main` branch:** This is our stable branch. Code here should always be production-ready (or assignment-ready). Direct commits to `main` are disallowed, similarily to force pushes.\n",
        "*   **Feature Branches:** For every new feature, bug fix, or distinct task, create a new branch off of `main`.\n",
        "    *   **Naming Convention:** Use descriptive names like `feature/add-new-viz`, `bugfix/fix-auth-error`, or `task/explore-dataset-x`.\n",
        "    *   **Who Creates:** Any team member starting a new task creates a new branch.\n",
        "    *   **When to Merge:** Merge back to `main` only after the work is complete, reviewed, and approved via a Pull Request. We will each review the submitted code to help alieviate any issues.\n",
        "\n",
        "## Colab ↔ BigQuery Quickstart\n",
        "\n",
        "Here's a quick guide to connect Colab to BigQuery:\n",
        "\n",
        "1.  **Authenticate:** Run this code to authenticate your Colab session with Google Cloud:"
      ],
      "id": "0349e71e"
    },
    {
      "cell_type": "code",
      "metadata": {
        "collapsed": true,
        "id": "765f4cff"
      },
      "source": [
        "    #from google.cloud import bigquery\n",
        "    #client = bigquery.Client(project=\"<YOUR_PROJECT_ID>\")\n",
        "    #sql = \"SELECT * FROM `<YOUR_PROJECT_ID>.<YOUR_DATASET>.<YOUR_TABLE>` LIMIT 100\" # Example query\n",
        "    #df = client.query(sql).result().to_dataframe()\n",
        "    #print(\"Rows returned:\", len(df))"
      ],
      "id": "765f4cff",
      "execution_count": 8,
      "outputs": []
    },
    {
      "cell_type": "markdown",
      "id": "0aa9e3a2",
      "metadata": {
        "id": "0aa9e3a2"
      },
      "source": [
        "\n",
        "---\n",
        "## Submission Checklist (to your team repo + Brightspace link)\n",
        "\n",
        "- [ ] All **Reflection** sections completed (A1–A3, B1–B3, C1–C3, Capstone).\n",
        "- [ ] Any code snippets pasted are **validated** and include a 1‑line explanation.\n",
        "- [ ] Notebook runs top‑to‑bottom without errors (where code cells exist).\n",
        "- [ ] Commit message: `week2.1-prompt-practice` and open a PR for review.\n",
        "- [ ] Add this notebook path to your repo **README.md** under Week 2.1.\n"
      ]
    }
  ],
  "metadata": {
    "colab": {
      "provenance": [],
      "include_colab_link": true
    },
    "language_info": {
      "name": "python"
    },
    "kernelspec": {
      "name": "python3",
      "display_name": "Python 3"
    }
  },
  "nbformat": 4,
  "nbformat_minor": 5
}